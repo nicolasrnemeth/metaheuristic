{
 "cells": [
  {
   "cell_type": "code",
   "execution_count": 2,
   "id": "7c41abf0-d146-43e3-8ca5-e60743ec45e1",
   "metadata": {},
   "outputs": [],
   "source": [
    "import os\n",
    "#os.environ[\"OMP_NUM_THREADS\"] = \"1\"\n",
    "import sys\n",
    "import numpy as np\n",
    "from scipy.spatial.distance import squareform, pdist"
   ]
  },
  {
   "cell_type": "code",
   "execution_count": 3,
   "id": "6ac248e8-9384-436f-9ad5-a7a77d931030",
   "metadata": {},
   "outputs": [],
   "source": [
    "from sklearn.cluster import KMeans\n",
    "import matplotlib.pyplot as plt"
   ]
  },
  {
   "cell_type": "code",
   "execution_count": 4,
   "id": "defb1781-3fd5-4e34-b976-c7e4340f25f6",
   "metadata": {},
   "outputs": [],
   "source": [
    "from kneed import KneeLocator"
   ]
  },
  {
   "cell_type": "code",
   "execution_count": 83,
   "id": "0d4ec64c-4895-4c85-bc1f-824769cec447",
   "metadata": {},
   "outputs": [],
   "source": [
    "class KMEANS(object):\n",
    "    def __init__(self, dist_matrix, node_coord):\n",
    "        self.node_coord = node_coord\n",
    "        self.dist_matrix = dist_matrix\n",
    "        self.k = self.estimate_k()\n",
    "        self.kmeans = KMeans(n_clusters=self.k)\n",
    "        \n",
    "    # Estimate optimal k-value for KMeans  \n",
    "    def estimate_k(self):\n",
    "        sse_list = list()\n",
    "        for k in range(10):\n",
    "            kmeans = KMeans(n_clusters=k+1)\n",
    "            kmeans = kmeans.fit(self.node_coord)\n",
    "            centroids = kmeans.cluster_centers_\n",
    "            labels = kmeans.labels_\n",
    "            \n",
    "            sse = 0\n",
    "            for idx in range(len(labels)):\n",
    "                center = centroids[labels[idx]]\n",
    "                sse += (self.node_coord[idx, 0] - center[0])**2 + (self.node_coord[idx, 1] - center[1])**2  \n",
    "            sse_list.append(sse)\n",
    "            \n",
    "        x = list( range( len(sse_list) ) )\n",
    "        kneedle = KneeLocator(x=x, y=sse_list, curve=\"convex\", direction=\"decreasing\")\n",
    "        return kneedle.knee\n",
    "    \n",
    "    def cluster(self):\n",
    "        self.kmeans = self.kmeans.fit(self.dist_matrix)\n",
    "        return self.kmeans.labels_"
   ]
  },
  {
   "cell_type": "code",
   "execution_count": 87,
   "id": "f91dfe49-d5f6-4108-bae0-2096640d21c6",
   "metadata": {},
   "outputs": [],
   "source": [
    "#kmeans = KMEANS(distance_matrix, coordinates)\n",
    "#labels = kmeans.cluster()"
   ]
  },
  {
   "cell_type": "code",
   "execution_count": 86,
   "id": "4ed19ca7-a94a-4a9c-848d-a49c869df783",
   "metadata": {},
   "outputs": [],
   "source": [
    "#plt.scatter(coordinates[:,0], coordinates[:,1], c=labels)\n",
    "#plt.title(\"Simple city map\")\n",
    "#plt.xlabel(\"x\")\n",
    "#plt.ylabel(\"y\")\n",
    "#plt.show()\n",
    "#plt.close()"
   ]
  },
  {
   "cell_type": "code",
   "execution_count": 70,
   "id": "1f4ac870-ff55-4fc8-b83f-f034bdd65cee",
   "metadata": {},
   "outputs": [],
   "source": [
    "class FileParser(object):\n",
    "    \"\"\" Parse TSP input file \"\"\"\n",
    "    def __init__(self, filepath, edge_weight_section=False):\n",
    "        self.filepath = filepath\n",
    "        self.distMatrix = None\n",
    "        self.edge_weight_section = edge_weight_section\n",
    "        self.coordinates = None\n",
    "    \n",
    "    # Input given as node coordinates\n",
    "    def node_coord(self, idx):\n",
    "        with open(self.filepath, 'r') as ifile:\n",
    "            nodes = list()\n",
    "            for line in ifile.readlines()[idx+1:]:\n",
    "                if line.strip() == \"EOF\":\n",
    "                    break\n",
    "                x, y = line.strip().split(\" \")[1:3]\n",
    "                nodes.append([float(x), float(y)])\n",
    "            nodes = np.array(nodes)\n",
    "            self.coordinates = nodes\n",
    "            self.distMatrix = squareform( pdist(nodes, metric=\"euclidean\") )\n",
    "        \n",
    "    # Input given as edge weights\n",
    "    def edge_weight(self, idx):\n",
    "        weights = list()\n",
    "        with open(self.filepath, 'r') as ifile:\n",
    "            for line in ifile.readlines()[idx+1:]:\n",
    "                if line.strip() == \"DISPLAY_DATA_SECTION\":\n",
    "                    break\n",
    "                weights += line.strip().split(\" \")\n",
    "                \n",
    "            weights = [float(x) for x in weights]\n",
    "            n = weights.count(0)\n",
    "            distMatrix = np.zeros((n, n))\n",
    "            rowIdx = 0\n",
    "            colIdx = 0\n",
    "            for w in weights:\n",
    "                if w == 0:\n",
    "                    rowIdx += 1\n",
    "                    colIdx = 0\n",
    "                    continue\n",
    "                distMatrix[rowIdx, colIdx] = w\n",
    "                colIdx += 1\n",
    "            self.distMatrix = distMatrix+distMatrix.T\n",
    "\n",
    "    def parse(self):\n",
    "        with open(self.filepath, 'r') as ifile:\n",
    "            for idx, line in enumerate(ifile.readlines()):\n",
    "                if line.strip() == \"NODE_COORD_SECTION\" or line.strip() == \"DISPLAY_DATA_SECTION\":\n",
    "                    self.node_coord(idx)\n",
    "                    return self\n",
    "                if self.edge_weight_section:\n",
    "                    if line.strip() == \"EDGE_WEIGHT_SECTION\":\n",
    "                        self.edge_weight(idx)\n",
    "                        return self\n",
    "            if line.strip().split(\" \")[0].isdigit():\n",
    "                print(\"The input file is in the wrong format (see README.md for format specs).\")\n",
    "                sys.exit(0)\n",
    "        return self\n",
    "    \n",
    "    # Return parsed data\n",
    "    def parsed_data(self):\n",
    "        return self.distMatrix, self.coordinates"
   ]
  },
  {
   "cell_type": "code",
   "execution_count": 68,
   "id": "b135b9e0-1aea-49e8-bae1-c8a364e08c1c",
   "metadata": {},
   "outputs": [],
   "source": [
    "class VarNeighbSearch(object):\n",
    "    def __init__(self):\n",
    "        pass"
   ]
  },
  {
   "cell_type": "code",
   "execution_count": 80,
   "id": "2581d3e4-d860-4459-8cd1-35b1a35930b6",
   "metadata": {},
   "outputs": [],
   "source": [
    "fileparser = FileParser(\"../input_data/pcb442.txt\").parse()\n",
    "distance_matrix, coordinates = fileparser.parsed_data()"
   ]
  },
  {
   "cell_type": "code",
   "execution_count": 11,
   "id": "0cc56d3e-f88d-4a42-a072-362a1362e82e",
   "metadata": {},
   "outputs": [],
   "source": [
    "#plt.scatter(coordinates[:,0], coordinates[:,1])"
   ]
  },
  {
   "cell_type": "code",
   "execution_count": null,
   "id": "01d55545-7dff-4235-9ba6-40babab62a5f",
   "metadata": {},
   "outputs": [],
   "source": []
  }
 ],
 "metadata": {
  "kernelspec": {
   "display_name": "Python 3 (ipykernel)",
   "language": "python",
   "name": "python3"
  },
  "language_info": {
   "codemirror_mode": {
    "name": "ipython",
    "version": 3
   },
   "file_extension": ".py",
   "mimetype": "text/x-python",
   "name": "python",
   "nbconvert_exporter": "python",
   "pygments_lexer": "ipython3",
   "version": "3.9.7"
  }
 },
 "nbformat": 4,
 "nbformat_minor": 5
}
